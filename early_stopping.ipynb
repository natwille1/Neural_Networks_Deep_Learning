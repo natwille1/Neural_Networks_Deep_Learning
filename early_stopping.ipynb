{
 "cells": [
  {
   "cell_type": "code",
   "execution_count": 23,
   "metadata": {},
   "outputs": [
    {
     "name": "stdout",
     "output_type": "stream",
     "text": [
      "\n"
     ]
    }
   ],
   "source": [
    "import numpy as np \n",
    "import pandas as pd \n",
    "import random\n",
    "\n"
   ]
  },
  {
   "cell_type": "code",
   "execution_count": 65,
   "metadata": {},
   "outputs": [
    {
     "name": "stdout",
     "output_type": "stream",
     "text": [
      "[56, 13, 73, 82, 25, 64, 85, 88, 84, 57]\n",
      "[1, 0, 1, 1, 0, 1, 1, 1, 0, 0]\n",
      "6\n",
      "fluctuating: [1, 0, 1, 1, 0, 1, 1, 1, 0, 0]\n",
      "[84, 92, 82, 101, 85, 68, 93, 71, 4, 30]\n",
      "[1, 1, 0, 1, 0, 0, 1, 0, 0, 1]\n",
      "5\n",
      "fluctuating: [1, 1, 0, 1, 0, 0, 1, 0, 0, 1]\n"
     ]
    }
   ],
   "source": [
    "accuracy = []\n",
    "test = []\n",
    "i = 0\n",
    "num = 10\n",
    "base = 0\n",
    "for x in range(20):\n",
    "    ac = random.randint(1,101)\n",
    "    accuracy.append(ac)\n",
    "    i += 1\n",
    "    #print(accuracy)\n",
    "    if accuracy[-1] > base:\n",
    "#         print(\"greater than base\")\n",
    "#         print(\"accuracy: %s, base: %s\" %(accuracy[-1], base))\n",
    "        test.append(1)\n",
    "        base = accuracy[-1]\n",
    "    elif accuracy[-1] <= base:\n",
    "#         print(\"less than base\")\n",
    "#         print(\"accuracy: %s, base: %s\" %(accuracy[-1], base))\n",
    "        test.append(0)\n",
    "        base = accuracy[-1]\n",
    "#     else:\n",
    "# #         print(\"same as base\")\n",
    "# #         print(\"accuracy: %s, base: %s\" %(accuracy[-1], base))\n",
    "#         test.append(0)\n",
    "#         base = accuracy[-1]\n",
    "    if i == num or t = 1:\n",
    "        i = 0\n",
    "        print(accuracy[-num:])\n",
    "        tot = sum(test[-num:])\n",
    "        print(test[-num:])\n",
    "        print(tot)\n",
    "        if tot == 0:\n",
    "            print(\"stagnated: %s\" % test[-num:])\n",
    "            #break\n",
    "        elif tot < 10:\n",
    "            print(\"fluctuating: %s\" % test[-num:])\n",
    "        else:\n",
    "            print(tot)\n"
   ]
  },
  {
   "cell_type": "code",
   "execution_count": 27,
   "metadata": {},
   "outputs": [
    {
     "name": "stdout",
     "output_type": "stream",
     "text": [
      "continuing..\n"
     ]
    }
   ],
   "source": [
    "test = [1,1,1,1,1,1,1,1,1,1]\n",
    "\n",
    "total = sum(test)\n",
    "if total == -10:\n",
    "    print(\"total: %s\" % total)\n",
    "    print(\"reached plateau after %i epochs\" % num)\n",
    "else:\n",
    "    print(\"continuing..\")"
   ]
  },
  {
   "cell_type": "code",
   "execution_count": 59,
   "metadata": {},
   "outputs": [
    {
     "name": "stdout",
     "output_type": "stream",
     "text": [
      "[1, 1, 1]\n"
     ]
    }
   ],
   "source": [
    "t = [1,1,1,1]\n",
    "print(t[-3:])"
   ]
  },
  {
   "cell_type": "code",
   "execution_count": null,
   "metadata": {},
   "outputs": [],
   "source": []
  }
 ],
 "metadata": {
  "kernelspec": {
   "display_name": "Python 2",
   "language": "python",
   "name": "python2"
  },
  "language_info": {
   "codemirror_mode": {
    "name": "ipython",
    "version": 2
   },
   "file_extension": ".py",
   "mimetype": "text/x-python",
   "name": "python",
   "nbconvert_exporter": "python",
   "pygments_lexer": "ipython2",
   "version": "2.7.15"
  }
 },
 "nbformat": 4,
 "nbformat_minor": 2
}
